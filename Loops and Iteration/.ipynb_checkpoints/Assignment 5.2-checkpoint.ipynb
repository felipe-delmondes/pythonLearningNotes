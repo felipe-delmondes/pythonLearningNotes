{
 "cells": [
  {
   "cell_type": "markdown",
   "metadata": {},
   "source": [
    "5.2 Write a program that repeatedly prompts a user for integer numbers until the user enters 'done'. Once 'done' is entered, print out the largest and smallest of the numbers. If the user enters anything other than a valid number catch it with a try/except and put out an appropriate message and ignore the number. Enter 7, 2, bob, 10, and 4 and match the output below."
   ]
  },
  {
   "cell_type": "code",
   "execution_count": 3,
   "metadata": {},
   "outputs": [
    {
     "name": "stdout",
     "output_type": "stream",
     "text": [
      "Insert an integer or done if you're done:7\n",
      "Insert an integer or done if you're done:2\n",
      "Insert an integer or done if you're done:meu pau\n",
      "Invalid input\n",
      "Insert an integer or done if you're done:10\n",
      "Insert an integer or done if you're done:4\n",
      "Insert an integer or done if you're done:done\n",
      "Maximum is 10\n",
      "Minimum is 2\n"
     ]
    }
   ],
   "source": [
    "Max = None\n",
    "Min = None\n",
    "\n",
    "state = \"run\"\n",
    "while state == \"run\":\n",
    "    userInput = input(\"Insert an integer or done if you're done:\")\n",
    "    if userInput == \"done\":\n",
    "        break\n",
    "    else:\n",
    "        #Error handling\n",
    "        try:\n",
    "            numberEntered = int(userInput)\n",
    "        except:\n",
    "            print(\"Invalid input\")\n",
    "            continue #Still continues the iterations anyways\n",
    "    \n",
    "    #Search for Max & Min, only keeping what is worth\n",
    "    if Max is None:\n",
    "        Max = numberEntered\n",
    "    elif Max < numberEntered:\n",
    "        Max = numberEntered\n",
    "        \n",
    "    if Min is None:\n",
    "        Min = numberEntered\n",
    "    elif Min > numberEntered:\n",
    "        Min = numberEntered\n",
    "        \n",
    "print(\"Maximum is\",Max)\n",
    "print(\"Minimum is\",Min)\n",
    "        \n",
    "    "
   ]
  },
  {
   "cell_type": "code",
   "execution_count": null,
   "metadata": {},
   "outputs": [],
   "source": []
  }
 ],
 "metadata": {
  "kernelspec": {
   "display_name": "Python 3",
   "language": "python",
   "name": "python3"
  },
  "language_info": {
   "codemirror_mode": {
    "name": "ipython",
    "version": 3
   },
   "file_extension": ".py",
   "mimetype": "text/x-python",
   "name": "python",
   "nbconvert_exporter": "python",
   "pygments_lexer": "ipython3",
   "version": "3.7.4"
  }
 },
 "nbformat": 4,
 "nbformat_minor": 2
}
