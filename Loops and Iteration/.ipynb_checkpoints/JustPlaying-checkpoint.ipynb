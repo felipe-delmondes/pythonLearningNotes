{
 "cells": [
  {
   "cell_type": "markdown",
   "metadata": {},
   "source": [
    "# While Loop, For Loop and gimme a break"
   ]
  },
  {
   "cell_type": "markdown",
   "metadata": {},
   "source": [
    "<p>While loops are <i>indefinite</i> loops, For loops are <i>definite loops</i> the famous gimme a break is used too get out of a loop</p>\n"
   ]
  },
  {
   "cell_type": "code",
   "execution_count": 5,
   "metadata": {},
   "outputs": [
    {
     "name": "stdout",
     "output_type": "stream",
     "text": [
      "It seems that the number is what it is...\n",
      "Would you be so kind to change it please?10\n",
      "It seems that the number is what it is...\n",
      "Would you be so kind to change it please?5\n",
      "What a joy\n"
     ]
    }
   ],
   "source": [
    "number = 10\n",
    "while number == 10:\n",
    "    print('It seems that the number is what it is...')\n",
    "    number = float(input('Would you be so kind to change it please?'))\n",
    "print(\"What a joy\")"
   ]
  },
  {
   "cell_type": "markdown",
   "metadata": {},
   "source": [
    "## See that we only left the loop when number was different than 10"
   ]
  },
  {
   "cell_type": "markdown",
   "metadata": {},
   "source": [
    "<p>There is another way to leave though</p>"
   ]
  },
  {
   "cell_type": "code",
   "execution_count": 9,
   "metadata": {},
   "outputs": [
    {
     "name": "stdout",
     "output_type": "stream",
     "text": [
      "It seems that the number is what it is...\n",
      "Would you be so kind to type in 5 please?10\n",
      "It seems that the number is what it is...\n",
      "Would you be so kind to type in 5 please?6\n",
      "It seems that the number is what it is...\n",
      "Would you be so kind to type in 5 please?4\n",
      "It seems that the number is what it is...\n",
      "Would you be so kind to type in 5 please?5\n",
      "What a joy\n"
     ]
    }
   ],
   "source": [
    "number = 10\n",
    "while True:\n",
    "    print('It seems that the number is what it is...')\n",
    "    number = float(input('Would you be so kind to type in 5 please?'))\n",
    "    if number == 5:\n",
    "        break\n",
    "print(\"What a joy\")"
   ]
  },
  {
   "cell_type": "markdown",
   "metadata": {},
   "source": [
    "## Note that except for the number 5, any other input would be useless to leave the while loop "
   ]
  },
  {
   "cell_type": "markdown",
   "metadata": {},
   "source": [
    "# There is also the CONTINUE!!!  "
   ]
  },
  {
   "cell_type": "markdown",
   "metadata": {},
   "source": [
    "<p> With that you jump the current iteration and goes to the next one :) </p>"
   ]
  },
  {
   "cell_type": "code",
   "execution_count": 11,
   "metadata": {},
   "outputs": [
    {
     "name": "stdout",
     "output_type": "stream",
     "text": [
      "Quero entrar\n",
      "Estou entrando\n",
      "s/ camisinha ou c/ camisinha?c\n",
      "Entrou até as bolas\n",
      "Quero entrar\n",
      "Estou entrando\n",
      "s/ camisinha ou c/ camisinha?s\n",
      "Só a cabeça\n",
      "Quero entrar\n",
      "Estou entrando\n",
      "s/ camisinha ou c/ camisinha?c\n",
      "Entrou até as bolas\n",
      "Quero entrar\n",
      "Estou entrando\n",
      "s/ camisinha ou c/ camisinha?s\n",
      "Só a cabeça\n",
      "Quero entrar\n",
      "Estou entrando\n",
      "s/ camisinha ou c/ camisinha?pepeka\n"
     ]
    }
   ],
   "source": [
    "bilola = \"giromba\"\n",
    "while bilola != \"pepeka\":\n",
    "    print('Quero entrar')\n",
    "    print('Estou entrando')\n",
    "    answer = input(\"s/ camisinha ou c/ camisinha?\")\n",
    "    if answer == \"s\":\n",
    "        print(\"Só a cabeça\")\n",
    "        continue\n",
    "    elif answer == \"pepeka\":\n",
    "        break\n",
    "    print('Entrou até as bolas')\n"
   ]
  },
  {
   "cell_type": "markdown",
   "metadata": {},
   "source": [
    "#  Now its time for definite loops - FOR"
   ]
  },
  {
   "cell_type": "code",
   "execution_count": 13,
   "metadata": {},
   "outputs": [
    {
     "name": "stdout",
     "output_type": "stream",
     "text": [
      "range(0, 10)\n"
     ]
    }
   ],
   "source": [
    "print(range(10))"
   ]
  },
  {
   "cell_type": "markdown",
   "metadata": {},
   "source": [
    "<p> One thing interesting about the for iteration in Python is that in practice is just a for each from JAVA </p>"
   ]
  },
  {
   "cell_type": "code",
   "execution_count": 14,
   "metadata": {},
   "outputs": [
    {
     "name": "stdout",
     "output_type": "stream",
     "text": [
      "Mia Kalifa\n",
      "Veronica Avluv\n",
      "Loana Rhoades\n",
      "Reid riles\n",
      "Venus Model\n",
      "Cytherea\n"
     ]
    }
   ],
   "source": [
    "pornActresses = ['Mia Kalifa', 'Veronica Avluv', 'Loana Rhoades', 'Reid riles', 'Venus Model', 'Cytherea']\n",
    "for pussy in pornActresses:\n",
    "    print(pussy)"
   ]
  },
  {
   "cell_type": "markdown",
   "metadata": {},
   "source": [
    "<p>Can you see it? It basically goes item buy item in any kind of list.<br> In fact, if you just wanna count here goes an easy for you.</p>"
   ]
  },
  {
   "cell_type": "code",
   "execution_count": 17,
   "metadata": {},
   "outputs": [
    {
     "name": "stdout",
     "output_type": "stream",
     "text": [
      "0\n",
      "1\n",
      "2\n",
      "3\n",
      "4\n",
      "5\n",
      "6\n",
      "7\n",
      "8\n",
      "9\n"
     ]
    }
   ],
   "source": [
    "for i in range(0,10,1):\n",
    "    print(i)"
   ]
  },
  {
   "cell_type": "markdown",
   "metadata": {},
   "source": [
    "Remember, if you'd like to see the docs just use Shift+Tab\n"
   ]
  },
  {
   "cell_type": "markdown",
   "metadata": {},
   "source": [
    "Example code for finding the smallest value using the variable of type <i>None</i>"
   ]
  },
  {
   "cell_type": "code",
   "execution_count": 18,
   "metadata": {},
   "outputs": [],
   "source": [
    "smallest = None\n",
    "for value in [9,41,12]:\n",
    "    if smallest is None: #Whereas == asks if the value is the same, the reserved word is asks if it is the same thing...\n",
    "        smallest = value #I'm initializing smallest with a value that makes sense\n",
    "    elif value < smallest:\n",
    "        smallest = value"
   ]
  },
  {
   "cell_type": "code",
   "execution_count": 19,
   "metadata": {},
   "outputs": [
    {
     "name": "stdout",
     "output_type": "stream",
     "text": [
      "9\n"
     ]
    }
   ],
   "source": [
    "print(smallest)"
   ]
  },
  {
   "cell_type": "code",
   "execution_count": null,
   "metadata": {},
   "outputs": [],
   "source": []
  }
 ],
 "metadata": {
  "kernelspec": {
   "display_name": "Python 3",
   "language": "python",
   "name": "python3"
  },
  "language_info": {
   "codemirror_mode": {
    "name": "ipython",
    "version": 3
   },
   "file_extension": ".py",
   "mimetype": "text/x-python",
   "name": "python",
   "nbconvert_exporter": "python",
   "pygments_lexer": "ipython3",
   "version": "3.7.4"
  }
 },
 "nbformat": 4,
 "nbformat_minor": 2
}
