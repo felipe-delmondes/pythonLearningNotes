{
 "cells": [
  {
   "cell_type": "markdown",
   "metadata": {},
   "source": [
    "<h1>Assignment 4.6 - Functions</h1>"
   ]
  },
  {
   "cell_type": "code",
   "execution_count": 6,
   "metadata": {},
   "outputs": [],
   "source": [
    "def computepay(hoursWorked,payRate):\n",
    "    if hoursWorked < 40:\n",
    "        grossPay = hoursWorked*payRate\n",
    "    else:\n",
    "        grossPay = 40*payRate\n",
    "        grossPay += (hoursWorked-40)*payRate*1.5\n",
    "    return grossPay"
   ]
  },
  {
   "cell_type": "code",
   "execution_count": 7,
   "metadata": {},
   "outputs": [
    {
     "name": "stdout",
     "output_type": "stream",
     "text": [
      "Insert how many hours you worked:45\n",
      "How much do you get a month?10.50\n"
     ]
    }
   ],
   "source": [
    "timeWorked = float(input(\"Insert how many hours you worked:\"))\n",
    "payRate = float(input(\"How much do you get a month?\"))"
   ]
  },
  {
   "cell_type": "code",
   "execution_count": 8,
   "metadata": {},
   "outputs": [
    {
     "name": "stdout",
     "output_type": "stream",
     "text": [
      "498.75\n"
     ]
    }
   ],
   "source": [
    "print(computepay(timeWorked,payRate))"
   ]
  }
 ],
 "metadata": {
  "kernelspec": {
   "display_name": "Python 3",
   "language": "python",
   "name": "python3"
  },
  "language_info": {
   "codemirror_mode": {
    "name": "ipython",
    "version": 3
   },
   "file_extension": ".py",
   "mimetype": "text/x-python",
   "name": "python",
   "nbconvert_exporter": "python",
   "pygments_lexer": "ipython3",
   "version": "3.7.4"
  }
 },
 "nbformat": 4,
 "nbformat_minor": 2
}
