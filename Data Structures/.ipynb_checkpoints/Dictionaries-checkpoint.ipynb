{
 "cells": [
  {
   "cell_type": "markdown",
   "metadata": {},
   "source": [
    "<h1>Dictionaries</h1>"
   ]
  },
  {
   "cell_type": "markdown",
   "metadata": {},
   "source": [
    "<p>They also store itens, however pairs of itens, where one is the key used to locate a part of the dictionary and the other its value.<br>The <b>Keys</b> in a dictionary are unique, you can sort of relate them to relational database systems.</p>"
   ]
  },
  {
   "cell_type": "code",
   "execution_count": 2,
   "metadata": {},
   "outputs": [
    {
     "data": {
      "text/plain": [
       "dict"
      ]
     },
     "execution_count": 2,
     "metadata": {},
     "output_type": "execute_result"
    }
   ],
   "source": [
    "x = {}\n",
    "type(x)"
   ]
  },
  {
   "cell_type": "code",
   "execution_count": 3,
   "metadata": {},
   "outputs": [
    {
     "name": "stdout",
     "output_type": "stream",
     "text": [
      "{'jpg': 10, 'txt': 14}\n"
     ]
    }
   ],
   "source": [
    "file_counts = {'jpg':10, 'txt':14}\n",
    "print(file_counts)"
   ]
  },
  {
   "cell_type": "code",
   "execution_count": 4,
   "metadata": {},
   "outputs": [
    {
     "data": {
      "text/plain": [
       "14"
      ]
     },
     "execution_count": 4,
     "metadata": {},
     "output_type": "execute_result"
    }
   ],
   "source": [
    "#you can acess an element value using the ID\n",
    "file_counts['txt']"
   ]
  },
  {
   "cell_type": "code",
   "execution_count": 5,
   "metadata": {},
   "outputs": [
    {
     "data": {
      "text/plain": [
       "True"
      ]
     },
     "execution_count": 5,
     "metadata": {},
     "output_type": "execute_result"
    }
   ],
   "source": [
    "#You can check wether an ID pertains in a Dictionary\n",
    "'jpg' in file_counts"
   ]
  },
  {
   "cell_type": "code",
   "execution_count": 6,
   "metadata": {},
   "outputs": [],
   "source": [
    "#If you try to assign a value to an ID that previously wasn't in the dictionary you're in fact adding it to it.\n",
    "file_counts['pdf'] = 8"
   ]
  },
  {
   "cell_type": "code",
   "execution_count": 7,
   "metadata": {},
   "outputs": [
    {
     "name": "stdout",
     "output_type": "stream",
     "text": [
      "{'jpg': 10, 'txt': 14, 'pdf': 8}\n"
     ]
    }
   ],
   "source": [
    "print(file_counts)"
   ]
  },
  {
   "cell_type": "code",
   "execution_count": null,
   "metadata": {},
   "outputs": [],
   "source": [
    "#Delete an item from the dictionary\n",
    "del file_counts['txt']"
   ]
  },
  {
   "cell_type": "code",
   "execution_count": 11,
   "metadata": {},
   "outputs": [
    {
     "name": "stdout",
     "output_type": "stream",
     "text": [
      "{'jpg': 10, 'pdf': 8}\n"
     ]
    }
   ],
   "source": [
    "print(file_counts)"
   ]
  },
  {
   "cell_type": "markdown",
   "metadata": {},
   "source": [
    "<h2>Iterations</h2>"
   ]
  },
  {
   "cell_type": "code",
   "execution_count": 14,
   "metadata": {},
   "outputs": [
    {
     "name": "stdout",
     "output_type": "stream",
     "text": [
      "jpg - 10\n",
      "pdf - 8\n"
     ]
    }
   ],
   "source": [
    "#You can break each row of a dictionary as a list or tuple and unpack them to iterate.\n",
    "for key, value in file_counts.items():\n",
    "    print('{chave} - {valor}'.format(valor=value,chave=key))"
   ]
  },
  {
   "cell_type": "code",
   "execution_count": 15,
   "metadata": {},
   "outputs": [
    {
     "name": "stdout",
     "output_type": "stream",
     "text": [
      "jpg - 10\n",
      "pdf - 8\n"
     ]
    }
   ],
   "source": [
    "#If you just iterate, remember that you're only doing this on the keys. Further code is necessary to access \n",
    "#the values corresponding to them\n",
    "\n",
    "for element in file_counts:\n",
    "    print('{chave} - {valor}'.format(valor=file_counts[element],chave=element))"
   ]
  },
  {
   "cell_type": "code",
   "execution_count": 16,
   "metadata": {},
   "outputs": [
    {
     "data": {
      "text/plain": [
       "dict_keys(['jpg', 'pdf'])"
      ]
     },
     "execution_count": 16,
     "metadata": {},
     "output_type": "execute_result"
    }
   ],
   "source": [
    "#If you're just interested in the keys of a dictionary or values you can have them in a sort of list doing that\n",
    "file_counts.keys()"
   ]
  },
  {
   "cell_type": "code",
   "execution_count": 17,
   "metadata": {},
   "outputs": [
    {
     "data": {
      "text/plain": [
       "dict_values([10, 8])"
      ]
     },
     "execution_count": 17,
     "metadata": {},
     "output_type": "execute_result"
    }
   ],
   "source": [
    "file_counts.values()"
   ]
  },
  {
   "cell_type": "code",
   "execution_count": 18,
   "metadata": {},
   "outputs": [
    {
     "name": "stdout",
     "output_type": "stream",
     "text": [
      "10\n",
      "8\n"
     ]
    }
   ],
   "source": [
    "#Even though they are not exactly what you would call a list, you can iterate over them normally as you'd with one\n",
    "for valores in file_counts.values():\n",
    "    print(valores)"
   ]
  },
  {
   "cell_type": "markdown",
   "metadata": {},
   "source": [
    "<p>Using dictionaries to count the <b>frequency</b> of letters in a text</p>"
   ]
  },
  {
   "cell_type": "code",
   "execution_count": 20,
   "metadata": {},
   "outputs": [
    {
     "name": "stdout",
     "output_type": "stream",
     "text": [
      "{'f': 1, 'e': 2, 'l': 1, 'i': 1, 'p': 1}\n"
     ]
    }
   ],
   "source": [
    "def count_letters(text):\n",
    "    counting = {}\n",
    "    for letter in text:\n",
    "        if letter not in counting:\n",
    "            counting[letter] = 0\n",
    "        counting[letter] += 1\n",
    "    return counting\n",
    "    \n",
    "print(count_letters('felipe'))"
   ]
  },
  {
   "cell_type": "markdown",
   "metadata": {},
   "source": [
    "<p>Dictionaries are <b>better for storing and retrieving information</b> than lists, and this is because a given key can only appear once, enabling some clever algorithms of search to work behind the scenes.<br>In a list however, there is no way to find out if a value is in it other than iterating through it. And do not be mistaken, the <b>in</b> key word is not magic, and also needs to iterate over a tuple or list to find out the elements inside of it.However if your goal is really to iterate to work with the values that pop out, then a list may be the way to go! In terms of performance though in this case you could either one.</p>"
   ]
  },
  {
   "cell_type": "markdown",
   "metadata": {},
   "source": [
    "<p>The keys of the dictionaries <b>have to me immutable</b>. They can be:<br><br>Strings<br>Numbers<br>Booleans<br>Tuples<br><br>And this doesn't not come as a surprise as they have to be unique and impossible of being altered.<br>The values however can be of any data type imaginable</p>"
   ]
  },
  {
   "cell_type": "markdown",
   "metadata": {},
   "source": [
    "<h2>Quiz</h2>"
   ]
  },
  {
   "cell_type": "code",
   "execution_count": 25,
   "metadata": {},
   "outputs": [
    {
     "name": "stdout",
     "output_type": "stream",
     "text": [
      "['clark.kent@gmail.com', 'diana.prince@gmail.com', 'peter.parker@gmail.com', 'barbara.gordon@yahoo.com', 'jean.grey@yahoo.com', 'bruce.wayne@hotmail.com']\n"
     ]
    }
   ],
   "source": [
    "def email_list(domains):\n",
    "    emails = []\n",
    "    for domain, users in domains.items():\n",
    "        for user in users:\n",
    "           emails.append(user+'@'+domain)\n",
    "    return(emails)\n",
    "\n",
    "print(email_list({\"gmail.com\": [\"clark.kent\", \"diana.prince\", \"peter.parker\"], \"yahoo.com\": [\"barbara.gordon\", \"jean.grey\"], \"hotmail.com\": [\"bruce.wayne\"]}))"
   ]
  },
  {
   "cell_type": "code",
   "execution_count": 28,
   "metadata": {},
   "outputs": [
    {
     "name": "stdout",
     "output_type": "stream",
     "text": [
      "{'admin': ['local', 'public', 'administrator'], 'userA': ['local'], 'userB': ['public']}\n"
     ]
    }
   ],
   "source": [
    "def groups_per_user(group_dictionary):\n",
    "    user_groups = {}\n",
    "    # Go through group_dictionary\n",
    "    for group, users in group_dictionary.items():\n",
    "        # Now go through the users in the group\n",
    "        for user in users:\n",
    "            if user not in user_groups:\n",
    "                user_groups[user] = []\n",
    "            user_groups[user].append(group)\n",
    "\t\t\t# Now add the group to the the list of\n",
    "# groups for this user, creating the entry\n",
    "# in the dictionary if necessary\n",
    "\n",
    "    return(user_groups)\n",
    "\n",
    "print(groups_per_user({\"local\": [\"admin\", \"userA\"],\"public\":  [\"admin\", \"userB\"],\"administrator\": [\"admin\"] }))"
   ]
  },
  {
   "cell_type": "code",
   "execution_count": 30,
   "metadata": {},
   "outputs": [
    {
     "name": "stdout",
     "output_type": "stream",
     "text": [
      "28.44\n"
     ]
    }
   ],
   "source": [
    "def add_prices(basket):\n",
    "    # Initialize the variable that will be used for the calculation\n",
    "    total = 0\n",
    "    # Iterate through the dictionary items\n",
    "    for value in basket.values():\n",
    "        # Add each price to the total calculation\n",
    "        # Hint: how do you access the values of\n",
    "\t\t# dictionary items?\n",
    "        total += value\n",
    "\t# Limit the return value to 2 decimal places\n",
    "    return round(total, 2)  \n",
    "\n",
    "groceries = {\"bananas\": 1.56, \"apples\": 2.50, \"oranges\": 0.99, \"bread\": 4.59, \"coffee\": 6.99, \"milk\": 3.39, \"eggs\": 2.98, \"cheese\": 5.44}\n",
    "\n",
    "print(add_prices(groceries)) # Should print 28.44\n"
   ]
  },
  {
   "cell_type": "code",
   "execution_count": 31,
   "metadata": {},
   "outputs": [
    {
     "name": "stdout",
     "output_type": "stream",
     "text": [
      "house number 123 on street named Main Street\n",
      "house number 1001 on street named 1st Ave\n",
      "house number 55 on street named North Center Drive\n"
     ]
    }
   ],
   "source": [
    "def format_address(address_string):\n",
    "  components = address_string.split()\n",
    "  number = components[0]\n",
    "  street = ' '.join(components[1:])\n",
    "    \n",
    "  return \"house number {} on street named {}\".format(number,street)\n",
    "\n",
    "print(format_address(\"123 Main Street\"))\n",
    "# Should print: \"house number 123 on street named Main Street\"\n",
    "\n",
    "print(format_address(\"1001 1st Ave\"))\n",
    "# Should print: \"house number 1001 on street named 1st Ave\"\n",
    "\n",
    "print(format_address(\"55 North Center Drive\"))\n",
    "# Should print \"house number 55 on street named North Center Drive\"\n"
   ]
  },
  {
   "cell_type": "code",
   "execution_count": 32,
   "metadata": {},
   "outputs": [
    {
     "name": "stdout",
     "output_type": "stream",
     "text": [
      "Have a NICE day\n",
      "Shhh, don't be so LOUD!\n",
      "Automating with Python is FUN\n"
     ]
    }
   ],
   "source": [
    "def highlight_word(sentence, word):\n",
    "    return(sentence[:sentence.find(word)]+word.upper()+sentence[sentence.find(word)+len(word):])\n",
    "\n",
    "print(highlight_word(\"Have a nice day\", \"nice\"))\n",
    "print(highlight_word(\"Shhh, don't be so loud!\", \"loud\"))\n",
    "print(highlight_word(\"Automating with Python is fun\", \"fun\"))\n"
   ]
  },
  {
   "cell_type": "code",
   "execution_count": 41,
   "metadata": {},
   "outputs": [
    {
     "name": "stdout",
     "output_type": "stream",
     "text": [
      "['Mike', 'Carol', 'Greg', 'Marcia', 'Peter', 'Jan', 'Bobby', 'Cindy', 'Alice']\n"
     ]
    }
   ],
   "source": [
    "def combine_lists(list1, list2):\n",
    "    list1.reverse()\n",
    "    list2.extend(list1)\n",
    "    return list2\n",
    "    \n",
    "Jamies_list = [\"Alice\", \"Cindy\", \"Bobby\", \"Jan\", \"Peter\"]\n",
    "Drews_list = [\"Mike\", \"Carol\", \"Greg\", \"Marcia\"]\n",
    "\n",
    "print(combine_lists(Jamies_list, Drews_list))\n"
   ]
  },
  {
   "cell_type": "code",
   "execution_count": 42,
   "metadata": {},
   "outputs": [
    {
     "name": "stdout",
     "output_type": "stream",
     "text": [
      "['Mike', 'Carol', 'Greg', 'Marcia', 'Peter', 'Jan', 'Bobby', 'Cindy', 'Alice']\n"
     ]
    }
   ],
   "source": [
    "def combine_lists(list1, list2):\n",
    "    list1.reverse()\n",
    "    list2.extend(list1)\n",
    "    return list2\n",
    "    \n",
    "Jamies_list = [\"Alice\", \"Cindy\", \"Bobby\", \"Jan\", \"Peter\"]\n",
    "Drews_list = [\"Mike\", \"Carol\", \"Greg\", \"Marcia\"]\n",
    "\n",
    "print(combine_lists(Jamies_list, Drews_list))\n"
   ]
  },
  {
   "cell_type": "code",
   "execution_count": 43,
   "metadata": {},
   "outputs": [
    {
     "name": "stdout",
     "output_type": "stream",
     "text": [
      "{'David': 1, 'Nancy': 1, 'Robert': 4, 'Adam': 2, 'Samantha': 3, 'Chris': 5, 'Brenda': 3, 'Jose': 3, 'Charlotte': 2, 'Terry': 1}\n"
     ]
    }
   ],
   "source": [
    "def combine_guests(guests1, guests2):\n",
    "  guests2.update(guests1)\n",
    "  return guests2\n",
    "  \n",
    "Rorys_guests = { \"Adam\":2, \"Brenda\":3, \"David\":1, \"Jose\":3, \"Charlotte\":2, \"Terry\":1, \"Robert\":4}\n",
    "Taylors_guests = { \"David\":4, \"Nancy\":1, \"Robert\":2, \"Adam\":1, \"Samantha\":3, \"Chris\":5}\n",
    "\n",
    "print(combine_guests(Rorys_guests, Taylors_guests))\n"
   ]
  },
  {
   "cell_type": "code",
   "execution_count": 44,
   "metadata": {},
   "outputs": [
    {
     "name": "stdout",
     "output_type": "stream",
     "text": [
      "{'a': 2, 'b': 2, 'c': 2}\n",
      "{'m': 1, 'a': 1, 't': 1, 'h': 1, 'i': 1, 's': 1, 'f': 1, 'u': 1, 'n': 1}\n",
      "{'t': 2, 'h': 1, 'i': 2, 's': 3, 'a': 1, 'e': 3, 'n': 2, 'c': 1}\n"
     ]
    }
   ],
   "source": [
    "def count_letters(text):\n",
    "  result = {}\n",
    "  # Go through each letter in the text\n",
    "  for letter in text.lower():\n",
    "    # Check if the letter needs to be counted or not\n",
    "    if letter.isalpha():\n",
    "      if letter not in result:\n",
    "        result[letter] = 0\n",
    "      result[letter] += 1\n",
    "    # Add or increment the value in the dictionary\n",
    "    ___\n",
    "  return result\n",
    "\n",
    "print(count_letters(\"AaBbCc\"))\n",
    "# Should be {'a': 2, 'b': 2, 'c': 2}\n",
    "\n",
    "print(count_letters(\"Math is fun! 2+2=4\"))\n",
    "# Should be {'m': 1, 'a': 1, 't': 1, 'h': 1, 'i': 1, 's': 1, 'f': 1, 'u': 1, 'n': 1}\n",
    "\n",
    "print(count_letters(\"This is a sentence.\"))\n",
    "# Should be {'t': 2, 'h': 1, 'i': 2, 's': 3, 'a': 1, 'e': 3, 'n': 2, 'c': 1}"
   ]
  },
  {
   "cell_type": "code",
   "execution_count": 46,
   "metadata": {},
   "outputs": [
    {
     "name": "stdout",
     "output_type": "stream",
     "text": [
      "Enter file name: mbox-short.txt\n",
      "cwen@iupui.edu 5\n"
     ]
    }
   ],
   "source": [
    "fname = input(\"Enter file name: \")\n",
    "fh = open('/home/felipe/' + fname)\n",
    "lst = []\n",
    "dictionary = {}\n",
    "count = 0\n",
    "for line in fh:\n",
    "    lst = line.split()\n",
    "    if \"From\" in lst:\n",
    "        if lst[0] == \"From\":\n",
    "            if lst[1] not in dictionary:\n",
    "                dictionary[lst[1]] = 0\n",
    "            dictionary[lst[1]] += 1  \n",
    "\n",
    "            \n",
    "maximo = None\n",
    "culprit = ''\n",
    "for personEmail, frequency in dictionary.items():\n",
    "    if maximo is None:\n",
    "        maximo = frequency\n",
    "        culprit = personEmail\n",
    "    elif maximo < frequency:\n",
    "        maximo = frequency\n",
    "        culprit = personEmail\n",
    "        \n",
    "print(\"{} {}\".format(culprit,maximo))\n"
   ]
  },
  {
   "cell_type": "code",
   "execution_count": 49,
   "metadata": {},
   "outputs": [
    {
     "name": "stdout",
     "output_type": "stream",
     "text": [
      "Enter file name: mbox-short.txt\n",
      "04 3\n",
      "06 1\n",
      "07 1\n",
      "09 2\n",
      "10 3\n",
      "11 6\n",
      "14 1\n",
      "15 2\n",
      "16 4\n",
      "17 2\n",
      "18 1\n",
      "19 1\n"
     ]
    }
   ],
   "source": [
    "fname = input(\"Enter file name: \")\n",
    "fh = open('/home/felipe/' + fname)\n",
    "lst = []\n",
    "dictionary = {}\n",
    "count = 0\n",
    "for line in fh:\n",
    "    lst = line.split()\n",
    "    if \"From\" in lst:\n",
    "        if lst[0] == \"From\":\n",
    "            fulltime = lst[5]\n",
    "            fulltimelist = fulltime.split(':')\n",
    "            \n",
    "            if fulltimelist[0] not in dictionary:\n",
    "                dictionary[fulltimelist[0]] = 0\n",
    "            dictionary[fulltimelist[0]] += 1  \n",
    "\n",
    "listToSort = []\n",
    "\n",
    "for hour, frequency in dictionary.items():\n",
    "    listToSort.append((hour,frequency))\n",
    "\n",
    "listToSort.sort()\n",
    "\n",
    "\n",
    "for a,b in listToSort:\n",
    "    print(\"{} {}\".format(a,b))\n"
   ]
  },
  {
   "cell_type": "code",
   "execution_count": null,
   "metadata": {},
   "outputs": [],
   "source": []
  }
 ],
 "metadata": {
  "kernelspec": {
   "display_name": "Python 3",
   "language": "python",
   "name": "python3"
  },
  "language_info": {
   "codemirror_mode": {
    "name": "ipython",
    "version": 3
   },
   "file_extension": ".py",
   "mimetype": "text/x-python",
   "name": "python",
   "nbconvert_exporter": "python",
   "pygments_lexer": "ipython3",
   "version": "3.7.4"
  }
 },
 "nbformat": 4,
 "nbformat_minor": 2
}
